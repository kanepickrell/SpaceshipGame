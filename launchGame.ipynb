{
 "cells": [
  {
   "cell_type": "code",
   "execution_count": 6,
   "metadata": {},
   "outputs": [],
   "source": [
    "import pygame as py \n",
    "import os\n",
    "import random\n",
    "import time"
   ]
  },
  {
   "cell_type": "code",
   "execution_count": 11,
   "metadata": {},
   "outputs": [],
   "source": [
    "# display window\n",
    "WIDTH = 1000\n",
    "HEIGHT = 1000\n",
    "WIN = py.display.set_mode((WIDTH, HEIGHT))\n",
    "\n",
    "# porting the assets\n",
    "PATH = \"/Users/kanepickrel/repos/py_scripts/space game/assets\"\n",
    "RED_SPACE_SHIP = py.image.load(os.path.join(\"assets\", \"pixel_ship_red_small.png\"))\n",
    "BLUE_SPACE_SHIP = py.image.load(os.path.join(\"assets\", \"pixel_ship_blue_small.png\"))\n",
    "GREEN_SPACE_SHIP = py.image.load(os.path.join(\"assets\", \"pixel_ship_green_small.png\"))\n",
    "YELLOW_SPACE_SHIP = py.image.load(os.path.join(\"assets\", \"pixel_ship_yellow.png\"))\n",
    "\n",
    "RED_SPACE_LASER = py.image.load(os.path.join(\"assets\", \"pixel_laser_red.png\"))\n",
    "BLUE_SPACE_LASER = py.image.load(os.path.join(\"assets\", \"pixel_laser_blue.png\"))\n",
    "GREEN_SPACE_LASER = py.image.load(os.path.join(\"assets\", \"pixel_laser_green.png\"))\n",
    "YELLOW_SPACE_LASER = py.image.load(os.path.join(\"assets\", \"pixel_laser_yellow.png\"))\n",
    "\n",
    "BACKGROUND = py.image.load(os.path.join(\"assets\", \"background-black.png\"))\n"
   ]
  },
  {
   "cell_type": "code",
   "execution_count": null,
   "metadata": {},
   "outputs": [],
   "source": []
  }
 ],
 "metadata": {
  "kernelspec": {
   "display_name": "Python 3.9.12 ('base')",
   "language": "python",
   "name": "python3"
  },
  "language_info": {
   "codemirror_mode": {
    "name": "ipython",
    "version": 3
   },
   "file_extension": ".py",
   "mimetype": "text/x-python",
   "name": "python",
   "nbconvert_exporter": "python",
   "pygments_lexer": "ipython3",
   "version": "3.9.12"
  },
  "orig_nbformat": 4,
  "vscode": {
   "interpreter": {
    "hash": "ab4b14862fe08681eae3407175b979146c1a3d56e8092d36d2aad4d37d035136"
   }
  }
 },
 "nbformat": 4,
 "nbformat_minor": 2
}
